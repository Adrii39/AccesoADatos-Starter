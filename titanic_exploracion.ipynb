{
  "cells": [
    {
      "cell_type": "markdown",
      "metadata": {},
      "source": [
        "# Exploración inicial del Titanic\n",
        "\n",
        "Este notebook carga el dataset del Titanic y realiza una primera exploración con Pandas, Matplotlib y Seaborn."
      ]
    },
    {
      "cell_type": "code",
      "execution_count": null,
      "metadata": {},
      "outputs": [],
      "source": [
        "import pandas as pd\n",
        "import matplotlib.pyplot as plt\n",
        "import seaborn as sns\n",
        "\n",
        "# --- 1. Cargar dataset ---\n",
        "df = pd.read_csv(\"data/titanic.csv\")\n",
        "\n",
        "# --- 2. Primer vistazo ---\n",
        "print(\"Dimensiones del dataset:\", df.shape)\n",
        "print(\"\\nColumnas disponibles:\\n\", df.columns.tolist())\n",
        "print(\"\\nPrimeras filas:\\n\", df.head())"
      ]
    },
    {
      "cell_type": "code",
      "execution_count": null,
      "metadata": {},
      "outputs": [],
      "source": [
        "# --- 3. Información general ---\n",
        "print(\"\\nInformación del dataset:\")\n",
        "print(df.info())\n",
        "\n",
        "print(\"\\nEstadísticas numéricas:\")\n",
        "print(df.describe())"
      ]
    },
    {
      "cell_type": "code",
      "execution_count": null,
      "metadata": {},
      "outputs": [],
      "source": [
        "# --- 4. Valores faltantes ---\n",
        "print(\"\\nValores nulos por columna:\")\n",
        "print(df.isnull().sum())"
      ]
    },
    {
      "cell_type": "code",
      "execution_count": null,
      "metadata": {},
      "outputs": [],
      "source": [
        "# --- 5. Preguntas exploratorias ---\n",
        "survived_counts = df[\"Survived\"].value_counts()\n",
        "print(\"\\nSupervivientes (0 = no, 1 = sí):\\n\", survived_counts)\n",
        "\n",
        "print(\"\\nEdad media de los supervivientes:\", df[df[\"Survived\"]==1][\"Age\"].mean())\n",
        "\n",
        "print(\"\\nDistribución de pasajeros por clase:\")\n",
        "print(df[\"Pclass\"].value_counts())"
      ]
    },
    {
      "cell_type": "code",
      "execution_count": null,
      "metadata": {},
      "outputs": [],
      "source": [
        "# --- 6. Visualizaciones ---\n",
        "sns.set_style(\"whitegrid\")\n",
        "\n",
        "sns.countplot(data=df, x=\"Sex\", hue=\"Survived\")\n",
        "plt.title(\"Supervivencia por sexo\")\n",
        "plt.show()\n",
        "\n",
        "df[\"Age\"].hist(bins=30, edgecolor=\"black\")\n",
        "plt.title(\"Distribución de edades\")\n",
        "plt.xlabel(\"Edad\")\n",
        "plt.ylabel(\"Número de pasajeros\")\n",
        "plt.show()\n",
        "\n",
        "sns.countplot(data=df, x=\"Pclass\", hue=\"Survived\")\n",
        "plt.title(\"Supervivencia por clase\")\n",
        "plt.show()"
      ]
    }
  ],
  "metadata": {
    "kernelspec": {
      "display_name": "Python 3",
      "language": "python",
      "name": "python3"
    },
    "language_info": {
      "name": "python",
      "version": "3.x"
    }
  },
  "nbformat": 4,
  "nbformat_minor": 5
}